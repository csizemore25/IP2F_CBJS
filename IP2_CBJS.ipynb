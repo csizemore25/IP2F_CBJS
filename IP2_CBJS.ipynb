{
 "cells": [
  {
   "cell_type": "markdown",
   "id": "8481d5b6",
   "metadata": {},
   "source": [
    "# Individual Project 2\n",
    "## Caitlin Sizemore \n",
    "### DS 160-01 Spring 2023 \n",
    "### Version 1"
   ]
  },
  {
   "cell_type": "code",
   "execution_count": 1,
   "id": "1cf9706c",
   "metadata": {},
   "outputs": [],
   "source": [
    "import numpy as np"
   ]
  },
  {
   "cell_type": "code",
   "execution_count": 12,
   "id": "ab7fc817",
   "metadata": {},
   "outputs": [
    {
     "data": {
      "text/plain": [
       "array([[10, 20],\n",
       "       [30, 40]])"
      ]
     },
     "execution_count": 12,
     "metadata": {},
     "output_type": "execute_result"
    }
   ],
   "source": [
    "a=np.array([(10, 20), (30, 40)])\n",
    "a"
   ]
  },
  {
   "cell_type": "code",
   "execution_count": 13,
   "id": "d4636ad6",
   "metadata": {},
   "outputs": [
    {
     "data": {
      "text/plain": [
       "array([[ 100,  400],\n",
       "       [ 900, 1600]])"
      ]
     },
     "execution_count": 13,
     "metadata": {},
     "output_type": "execute_result"
    }
   ],
   "source": [
    "np.square(a)"
   ]
  },
  {
   "cell_type": "code",
   "execution_count": 14,
   "id": "eb24e668",
   "metadata": {},
   "outputs": [
    {
     "data": {
      "text/plain": [
       "array([[110, 120],\n",
       "       [130, 140]])"
      ]
     },
     "execution_count": 14,
     "metadata": {},
     "output_type": "execute_result"
    }
   ],
   "source": [
    "a+100"
   ]
  },
  {
   "cell_type": "code",
   "execution_count": 15,
   "id": "8d252d8b",
   "metadata": {},
   "outputs": [
    {
     "data": {
      "text/plain": [
       "array([[ 50, 100],\n",
       "       [150, 200]])"
      ]
     },
     "execution_count": 15,
     "metadata": {},
     "output_type": "execute_result"
    }
   ],
   "source": [
    "a*5"
   ]
  },
  {
   "cell_type": "code",
   "execution_count": 16,
   "id": "3128942f",
   "metadata": {},
   "outputs": [
    {
     "data": {
      "text/plain": [
       "array([[3.16227766, 4.47213595],\n",
       "       [5.47722558, 6.32455532]])"
      ]
     },
     "execution_count": 16,
     "metadata": {},
     "output_type": "execute_result"
    }
   ],
   "source": [
    "np.sqrt(a)"
   ]
  },
  {
   "cell_type": "code",
   "execution_count": 23,
   "id": "50add9b8",
   "metadata": {},
   "outputs": [
    {
     "data": {
      "text/plain": [
       "array([[ 3,  6,  9],\n",
       "       [12, 15, 18],\n",
       "       [21, 24, 27]])"
      ]
     },
     "execution_count": 23,
     "metadata": {},
     "output_type": "execute_result"
    }
   ],
   "source": [
    "b=np.arange(3,28,3)\n",
    "b.resize(3,3)\n",
    "b"
   ]
  },
  {
   "cell_type": "code",
   "execution_count": 25,
   "id": "57618009",
   "metadata": {},
   "outputs": [
    {
     "data": {
      "text/plain": [
       "array([[10.  , 11.25, 12.5 ],\n",
       "       [13.75, 15.  , 16.25],\n",
       "       [17.5 , 18.75, 20.  ]])"
      ]
     },
     "execution_count": 25,
     "metadata": {},
     "output_type": "execute_result"
    }
   ],
   "source": [
    "c=np.linspace(10,20,9)\n",
    "c.resize(3,3)\n",
    "c"
   ]
  },
  {
   "cell_type": "code",
   "execution_count": 26,
   "id": "bed06884",
   "metadata": {},
   "outputs": [
    {
     "data": {
      "text/plain": [
       "array([[ 30. ,  67.5, 112.5],\n",
       "       [165. , 225. , 292.5],\n",
       "       [367.5, 450. , 540. ]])"
      ]
     },
     "execution_count": 26,
     "metadata": {},
     "output_type": "execute_result"
    }
   ],
   "source": [
    "b*c"
   ]
  },
  {
   "cell_type": "code",
   "execution_count": 29,
   "id": "2dec6bfb",
   "metadata": {},
   "outputs": [],
   "source": [
    "d=np.load('process1.npy')\n",
    "e=np.load('process2.npy')\n",
    "f=np.load('process3.npy')\n",
    "g=np.load('process4.npy')\n",
    "h=np.load('process5.npy')"
   ]
  },
  {
   "cell_type": "code",
   "execution_count": 30,
   "id": "88168c18",
   "metadata": {},
   "outputs": [
    {
     "data": {
      "text/plain": [
       "array([[52, 12, 81,  0, 58],\n",
       "       [96,  4, 61, 16, 43],\n",
       "       [38, 96, 45, 17, 58],\n",
       "       [97, 21, 22, 25,  6],\n",
       "       [77,  6, 19,  2, 74]], dtype=int32)"
      ]
     },
     "execution_count": 30,
     "metadata": {},
     "output_type": "execute_result"
    }
   ],
   "source": [
    "array1=np.vstack([d,e,f,g,h])\n",
    "array1"
   ]
  },
  {
   "cell_type": "code",
   "execution_count": 31,
   "id": "e4d39f48",
   "metadata": {},
   "outputs": [
    {
     "data": {
      "text/plain": [
       "array([72. , 27.8, 45.6, 12. , 47.8])"
      ]
     },
     "execution_count": 31,
     "metadata": {},
     "output_type": "execute_result"
    }
   ],
   "source": [
    "np.mean(array1, axis=0)"
   ]
  }
 ],
 "metadata": {
  "kernelspec": {
   "display_name": "Python 3 (ipykernel)",
   "language": "python",
   "name": "python3"
  },
  "language_info": {
   "codemirror_mode": {
    "name": "ipython",
    "version": 3
   },
   "file_extension": ".py",
   "mimetype": "text/x-python",
   "name": "python",
   "nbconvert_exporter": "python",
   "pygments_lexer": "ipython3",
   "version": "3.9.12"
  }
 },
 "nbformat": 4,
 "nbformat_minor": 5
}
